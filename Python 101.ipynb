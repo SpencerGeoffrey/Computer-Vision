{
 "cells": [
  {
   "cell_type": "markdown",
   "id": "51cc6b92",
   "metadata": {},
   "source": [
    "# Hands on Python"
   ]
  },
  {
   "cell_type": "markdown",
   "id": "ab010182",
   "metadata": {},
   "source": [
    "Python - object-oriented language. therefore it uses classes to define data types.\n",
    "\n",
    "Python Data Types:\n",
    "<ol>\n",
    "  <li>Numeric types: int, float, complex;.</li>\n",
    "  <li>Sequence type: lis, tuple, range;</li>\n",
    "  <li>Mapping type: dict;</li>\n",
    "  <li>Boolean type: bool;</li>\n",
    "  <li>Binary types: bytes, bytearray, memoryview.</li>\n",
    "</ol>"
   ]
  },
  {
   "cell_type": "markdown",
   "id": "b625968f",
   "metadata": {},
   "source": [
    "<h1>Basic Data Types</h1>"
   ]
  },
  {
   "cell_type": "markdown",
   "id": "3ef99e7f",
   "metadata": {},
   "source": [
    "<h2>Basic Data Types</h2>"
   ]
  },
  {
   "cell_type": "markdown",
   "id": "e33407d0",
   "metadata": {},
   "source": [
    "Whenever is required to specify the type on to a variable, this can be executed with casting.\n",
    "\n",
    "Casting in python is therefore done using constructor functions:\n",
    "\n",
    "* int() - constructs an integer number from an integer literal, a float literal (by removing all decimals), or a string literal (providing the string represents a whole number);\n",
    "\n",
    "* float() - constructs a float number from an integer literal, a float literal or a string literal (providing the string represents a float or an integer);\n",
    "\n",
    "* str() - constructs a string from a wide variety of data types, including strings, integer literals and float literals"
   ]
  },
  {
   "cell_type": "markdown",
   "id": "ed7cf331",
   "metadata": {},
   "source": [
    "<h3>Numbers</h3>"
   ]
  },
  {
   "cell_type": "code",
   "execution_count": 1,
   "id": "34044dcc",
   "metadata": {},
   "outputs": [
    {
     "data": {
      "text/plain": [
       "(1, 2, 3)"
      ]
     },
     "execution_count": 1,
     "metadata": {},
     "output_type": "execute_result"
    }
   ],
   "source": [
    "\n",
    "x = int(1)     # X = 1   \n",
    "y = int(2.9)   #Y = 2\n",
    "z = int(\"3\")   #Z = 3\n",
    "x,y,z"
   ]
  },
  {
   "cell_type": "code",
   "execution_count": 2,
   "id": "58d96c04",
   "metadata": {},
   "outputs": [
    {
     "data": {
      "text/plain": [
       "(1.0, 2.8, 3.0, 4.2)"
      ]
     },
     "execution_count": 2,
     "metadata": {},
     "output_type": "execute_result"
    }
   ],
   "source": [
    "#floats\n",
    "x = float(1)     # x will be 1.0\n",
    "y = float(2.8)   # y will be 2.8\n",
    "z = float(\"3\")   # z will be 3.0\n",
    "w = float(\"4.2\") # w will be 4.2\n",
    "x,y,z,w"
   ]
  },
  {
   "cell_type": "code",
   "execution_count": 3,
   "id": "85e2afc3",
   "metadata": {},
   "outputs": [
    {
     "data": {
      "text/plain": [
       "1j"
      ]
     },
     "execution_count": 3,
     "metadata": {},
     "output_type": "execute_result"
    }
   ],
   "source": [
    "#complex\n",
    "\n",
    "x = 1j\n",
    "x"
   ]
  },
  {
   "cell_type": "code",
   "execution_count": 4,
   "id": "b70d121e",
   "metadata": {},
   "outputs": [
    {
     "name": "stdout",
     "output_type": "stream",
     "text": [
      "3 <class 'int'>\n"
     ]
    }
   ],
   "source": [
    "#Numbers\n",
    "x = 3\n",
    "print(x, type(x))"
   ]
  },
  {
   "cell_type": "markdown",
   "id": "9f0877ff",
   "metadata": {},
   "source": [
    "Python Operators:\n",
    "* Arithmetic operator\n",
    "* Assignement operators\n",
    "* Comparison operators;\n",
    "* Logical operators;\n",
    "* Bitwise operators;\n",
    "* Membership operators."
   ]
  },
  {
   "cell_type": "code",
   "execution_count": 5,
   "id": "d019a946",
   "metadata": {},
   "outputs": [
    {
     "name": "stdout",
     "output_type": "stream",
     "text": [
      "4\n",
      "2\n",
      "6\n",
      "9\n"
     ]
    }
   ],
   "source": [
    "print(x + 1)     # addition\n",
    "print(x - 1)     # subtraction\n",
    "print(x * 2)     # multiplication\n",
    "print(x ** 2)    # exponentiation"
   ]
  },
  {
   "cell_type": "code",
   "execution_count": 6,
   "id": "65ad4076",
   "metadata": {},
   "outputs": [
    {
     "name": "stdout",
     "output_type": "stream",
     "text": [
      "4\n",
      "8\n"
     ]
    }
   ],
   "source": [
    "x += 1          # performs x = x + 1\n",
    "print(x)\n",
    "x *= 2          # performs x = x * 2, as x is now equal to 4, x = 4 * 2\n",
    "print(x)"
   ]
  },
  {
   "cell_type": "code",
   "execution_count": 7,
   "id": "f3f54435",
   "metadata": {},
   "outputs": [
    {
     "name": "stdout",
     "output_type": "stream",
     "text": [
      "2.5 <class 'float'>\n",
      "2.5 3.5 5.0 6.25\n"
     ]
    }
   ],
   "source": [
    "y = 2.5\n",
    "print(y, type(y))\n",
    "print(y, y + 1, y * 2, y ** 2)"
   ]
  },
  {
   "cell_type": "markdown",
   "id": "f42975a5",
   "metadata": {},
   "source": [
    "Unlike many languages, Python does not have unary increment (x++) or decrement (x--) operators.\n",
    "\n",
    "Python also has built-in types for long integers and complex numbers; you can find all of the details in the [documentation](https://docs.python.org/3.7/library/stdtypes.html#numeric-types-int-float-long-complex)."
   ]
  },
  {
   "cell_type": "markdown",
   "id": "06e9b358",
   "metadata": {},
   "source": [
    "<h3>Booleans</h3>\n",
    "Python implements all of the usual operators for Boolean logic, but uses English words rather than symbols (&&, ||, etc.):"
   ]
  },
  {
   "cell_type": "code",
   "execution_count": 8,
   "id": "260564ec",
   "metadata": {},
   "outputs": [
    {
     "name": "stdout",
     "output_type": "stream",
     "text": [
      "True False <class 'bool'> <class 'bool'>\n"
     ]
    }
   ],
   "source": [
    "t, f = True, False\n",
    "print(t, f, type(t), type(f))"
   ]
  },
  {
   "cell_type": "markdown",
   "id": "bbf8745e",
   "metadata": {},
   "source": [
    "Now we let's look at the operations:"
   ]
  },
  {
   "cell_type": "code",
   "execution_count": 9,
   "id": "f22dea59",
   "metadata": {},
   "outputs": [
    {
     "name": "stdout",
     "output_type": "stream",
     "text": [
      "False\n",
      "True\n",
      "False\n",
      "True\n"
     ]
    }
   ],
   "source": [
    "print(t and f)  # Logical AND\n",
    "print(t or f)   # Logical OR\n",
    "print(not t)    # Logical NOT\n",
    "print(t != f)   #Logical XOR"
   ]
  },
  {
   "cell_type": "markdown",
   "id": "cdf43442",
   "metadata": {},
   "source": [
    "<h3>Strings</h3>"
   ]
  },
  {
   "cell_type": "code",
   "execution_count": 10,
   "id": "cf373737",
   "metadata": {},
   "outputs": [
    {
     "name": "stdout",
     "output_type": "stream",
     "text": [
      "Hello 5\n"
     ]
    }
   ],
   "source": [
    "hello = \"Hello\"   # string literals can use single quotes\n",
    "world = \"World!\"  # or double quotes; it doesn't matter\n",
    "print(hello, len(hello))"
   ]
  },
  {
   "cell_type": "code",
   "execution_count": 11,
   "id": "4ef8902d",
   "metadata": {},
   "outputs": [
    {
     "name": "stdout",
     "output_type": "stream",
     "text": [
      "Hello World!\n"
     ]
    }
   ],
   "source": [
    "hw = hello + ' ' + world  # string concatenation.... space between: + ' [space]' + \n",
    "print(hw)"
   ]
  },
  {
   "cell_type": "code",
   "execution_count": 12,
   "id": "d484df85",
   "metadata": {},
   "outputs": [
    {
     "name": "stdout",
     "output_type": "stream",
     "text": [
      "Hello World! 12\n"
     ]
    }
   ],
   "source": [
    "hw12 = '{} {} {}'.format(hello, world, 12)  #string formatting\n",
    "print(hw12)"
   ]
  },
  {
   "cell_type": "markdown",
   "id": "3d4ccf1e",
   "metadata": {},
   "source": [
    "It's possible to assign a multiline string to a variable by using three quotes \"\"\" \"\"\""
   ]
  },
  {
   "cell_type": "code",
   "execution_count": 13,
   "id": "26122cea",
   "metadata": {},
   "outputs": [
    {
     "name": "stdout",
     "output_type": "stream",
     "text": [
      "Hoje vamos aprender Python mas,\n",
      "alguns alunos podem já terem tido contato anteriormente.\n",
      "Convém relembrar! \n"
     ]
    }
   ],
   "source": [
    "str_multi = \"\"\"Hoje vamos aprender Python mas,\n",
    "alguns alunos podem já terem tido contato anteriormente.\n",
    "Convém relembrar! \"\"\"\n",
    "print(str_multi)"
   ]
  },
  {
   "cell_type": "markdown",
   "id": "e1241314",
   "metadata": {},
   "source": [
    "String objects have a bunch of useful methods, for example: "
   ]
  },
  {
   "cell_type": "code",
   "execution_count": 14,
   "id": "10b3ab84",
   "metadata": {},
   "outputs": [
    {
     "name": "stdout",
     "output_type": "stream",
     "text": [
      "Geoffrey\n",
      "GEOFFREY\n",
      "                                                                                           geoffrey\n",
      "                     geoffrey                     \n",
      "Spencer\n"
     ]
    }
   ],
   "source": [
    "s = \"geoffrey\"\n",
    "print(s.capitalize())             # Capitalize a string\n",
    "print(s.upper())                  # convert a string to uppercase; will print 'GEOFFREY'\n",
    "print(s.rjust(99))                # Right-justify a string, padding with spaces\n",
    "print(s.center(50))               # Center a string, padding with spaces \n",
    "#print(s.replace('1', '(ell)'))    # Replace all instance of one substring with another\n",
    "print('  Spencer'.strip())        # Strip leading and trailing whitespace"
   ]
  },
  {
   "cell_type": "markdown",
   "id": "587b974a",
   "metadata": {},
   "source": [
    "<h3>Containers</h3>"
   ]
  },
  {
   "cell_type": "markdown",
   "id": "43ab6f5f",
   "metadata": {},
   "source": [
    "Python does not present a built-in support for arrays. A list can be a resizeable and contain elements of different types. \n",
    "It can be written as a list of comma-separated values (items) between square backets."
   ]
  },
  {
   "cell_type": "code",
   "execution_count": 15,
   "id": "aa3112dd",
   "metadata": {},
   "outputs": [
    {
     "name": "stdout",
     "output_type": "stream",
     "text": [
      "[3, 1, 2] 2\n",
      "2\n"
     ]
    }
   ],
   "source": [
    "xs = [3, 1, 2]      # create a list\n",
    "print(xs, xs[2])    # prints out the list xs, and the value at position 2\n",
    "print(xs[-1])       # negative indices count from end of the list; will print '2'"
   ]
  },
  {
   "cell_type": "code",
   "execution_count": 16,
   "id": "0e531c2f",
   "metadata": {},
   "outputs": [
    {
     "name": "stdout",
     "output_type": "stream",
     "text": [
      "[3, 1, 'foo']\n"
     ]
    }
   ],
   "source": [
    "xs[2] = 'foo'       #lists can contain elements of different types\n",
    "print(xs)"
   ]
  },
  {
   "cell_type": "code",
   "execution_count": 17,
   "id": "b5b23420",
   "metadata": {},
   "outputs": [
    {
     "name": "stdout",
     "output_type": "stream",
     "text": [
      "[3, 1, 'foo', 'bar']\n"
     ]
    }
   ],
   "source": [
    "xs.append('bar')   # adds a new element to the end of the list\n",
    "print(xs)"
   ]
  },
  {
   "cell_type": "code",
   "execution_count": 18,
   "id": "2f5c5b66",
   "metadata": {},
   "outputs": [
    {
     "name": "stdout",
     "output_type": "stream",
     "text": [
      "bar [3, 1, 'foo']\n"
     ]
    }
   ],
   "source": [
    "x = xs.pop()       # remove and return the last element of the list\n",
    "print(x, xs)"
   ]
  },
  {
   "cell_type": "markdown",
   "id": "db53b054",
   "metadata": {},
   "source": [
    "<h3>Slicing</h3>"
   ]
  },
  {
   "cell_type": "markdown",
   "id": "a3265ebf",
   "metadata": {},
   "source": [
    "Furthermore, to accessing list elements one at a time, Python provides concies syntax to access sublists; which is known as slicing"
   ]
  },
  {
   "cell_type": "code",
   "execution_count": 19,
   "id": "d653d3e1",
   "metadata": {},
   "outputs": [
    {
     "name": "stdout",
     "output_type": "stream",
     "text": [
      "Co\n",
      "Visio\n",
      "Vision\n",
      "[0, 1, 2, 3, 4]\n",
      "[2, 3]\n",
      "[2, 3, 4]\n",
      "[0, 1]\n",
      "[0, 1, 2, 3, 4]\n",
      "[0, 1, 2, 3]\n",
      "[0, 1, 8, 9, 4]\n"
     ]
    }
   ],
   "source": [
    "name = \"Computer Vision\"\n",
    "\n",
    "print(name[0:2])           # prints from position 0 (included) to 2 (excluded) ---- position 0 & 1\n",
    "print(name[9:14])          # prints from position 9 (included) to position 14 (excluded) ------ position 9 & 13\n",
    "print(name[9:])            # prints from position 9 and the remaining positions\n",
    "\n",
    "nums = list(range(5))      # range is a built-in function that creates a list of integers\n",
    "print(nums)                   # Prints \"[0, 1, 2, 3, 4]\"\n",
    "\n",
    "print(nums[2:4])           # gets a slice from index 2 to 4 ----- position 2 & 3\n",
    "print(nums[2:])            # gest slice from position 2 to the end; prints out [2, 3, 4]\n",
    "print(nums[:2])            # gets slice from previous positions to position 2 --- gets slice from the begining to index 2 --- position 0 & 1 excluding position 2 and the rest\n",
    "print(nums[:])             # gets slice for the whole list\n",
    "print(nums[:-1])           # slice indices can be negative, prints [0, 1, 2, 3]\n",
    "\n",
    "nums[2:4] = [8,9]          # assign new sublist to a slice ----- assignement executed to position/index 2 & 3 excluding index 4\n",
    "print(nums)"
   ]
  },
  {
   "cell_type": "markdown",
   "id": "74f9cece",
   "metadata": {},
   "source": [
    "The built-in function *range()* generates arithmetic progressions. It is possible to specify the start and the end value (this last one is out of the generated sequence). It is also possible to specify a ‘step’ increment (which can be negative)."
   ]
  },
  {
   "cell_type": "code",
   "execution_count": 20,
   "id": "b888e28e",
   "metadata": {},
   "outputs": [
    {
     "name": "stdout",
     "output_type": "stream",
     "text": [
      "[0, 3, 6, 9]\n",
      "[-10, -40, -70]\n"
     ]
    }
   ],
   "source": [
    "print( list(range(0, 10, 3)) )            # from 0 to 10, from 3 to 3\n",
    "\n",
    "print( list(range(-10, -100, -30)) )      # from -10 to -100, from -30 to -30"
   ]
  },
  {
   "cell_type": "markdown",
   "id": "dba40630",
   "metadata": {},
   "source": [
    "<h3>Dictionaires</h3>"
   ]
  },
  {
   "cell_type": "markdown",
   "id": "5777c1fa",
   "metadata": {},
   "source": [
    "Dictionaires are indexed by keys, which can be an immutable type; strings and numbers can always be keys (uniques).\n",
    "* A pair of braces creates an empty dictionary: {} ;\n",
    "* It is also possible to *delete* a key: value pair with *del* ;\n",
    "* To check whether a single key is in the dictionary, use the *in* keyword ;\n",
    "* the *dict()* constructor builds dictionaries directly from sequences of key-value pairs."
   ]
  },
  {
   "cell_type": "markdown",
   "id": "9d7db1da",
   "metadata": {},
   "source": [
    "A dictionary stores (key:value) pairs:"
   ]
  },
  {
   "cell_type": "code",
   "execution_count": 21,
   "id": "c93a075e",
   "metadata": {},
   "outputs": [
    {
     "name": "stdout",
     "output_type": "stream",
     "text": [
      "cute\n",
      "True\n"
     ]
    }
   ],
   "source": [
    "d = {'cat': 'cute', 'dog': 'furry'}     # creates a new dictionary with some data \n",
    "print(d['cat'])                         # get an entry from a dictionary; prints 'cute'\n",
    "print('cat' in d)                       # checks if a dictionary has a given key; prints \"True\""
   ]
  },
  {
   "cell_type": "code",
   "execution_count": 22,
   "id": "68aeeb5a",
   "metadata": {},
   "outputs": [
    {
     "name": "stdout",
     "output_type": "stream",
     "text": [
      "wet\n"
     ]
    }
   ],
   "source": [
    "d['fish'] = 'wet'                       # set an entry in a dictionary\n",
    "print(d['fish'])                        # prints 'wet'"
   ]
  },
  {
   "cell_type": "code",
   "execution_count": 23,
   "id": "54ddbaad",
   "metadata": {},
   "outputs": [
    {
     "ename": "KeyError",
     "evalue": "'monkey'",
     "output_type": "error",
     "traceback": [
      "\u001b[1;31m---------------------------------------------------------------------------\u001b[0m",
      "\u001b[1;31mKeyError\u001b[0m                                  Traceback (most recent call last)",
      "Cell \u001b[1;32mIn[23], line 1\u001b[0m\n\u001b[1;32m----> 1\u001b[0m \u001b[38;5;28mprint\u001b[39m(d[\u001b[38;5;124m'\u001b[39m\u001b[38;5;124mmonkey\u001b[39m\u001b[38;5;124m'\u001b[39m])\n",
      "\u001b[1;31mKeyError\u001b[0m: 'monkey'"
     ]
    }
   ],
   "source": [
    "print(d['monkey'])                      # KeyError: 'monkey' not a key of d (dictionary)"
   ]
  },
  {
   "cell_type": "code",
   "execution_count": 24,
   "id": "da5d4542",
   "metadata": {},
   "outputs": [
    {
     "name": "stdout",
     "output_type": "stream",
     "text": [
      "N/A\n",
      "wet\n"
     ]
    }
   ],
   "source": [
    "print(d.get('monkey', 'N/A'))           # gets an element with a default: prints 'N/A'\n",
    "print(d.get('fish', 'N/A'))"
   ]
  },
  {
   "cell_type": "code",
   "execution_count": 25,
   "id": "c10db3c3",
   "metadata": {},
   "outputs": [
    {
     "name": "stdout",
     "output_type": "stream",
     "text": [
      "N/A\n"
     ]
    }
   ],
   "source": [
    "del d['fish']                           # remove fish from the dictionary\n",
    "print(d.get('fish', 'N/A'))"
   ]
  },
  {
   "cell_type": "markdown",
   "id": "2f42d529",
   "metadata": {},
   "source": [
    "It is easy to iterate over the keys in a dictionary:\n"
   ]
  },
  {
   "cell_type": "code",
   "execution_count": 26,
   "id": "38f939e1",
   "metadata": {},
   "outputs": [
    {
     "name": "stdout",
     "output_type": "stream",
     "text": [
      "A person has 2 legs\n",
      "A cat has 4 legs\n",
      "A spider has 8 legs\n"
     ]
    }
   ],
   "source": [
    "d = {'person': 2, 'cat': 4, 'spider': 8}\n",
    "\n",
    "for animal, legs in d.items():                        # animal holds the [keys] and legs hold the [value]\n",
    "    print('A {} has {} legs'.format(animal, legs))"
   ]
  },
  {
   "cell_type": "markdown",
   "id": "040c8980",
   "metadata": {},
   "source": [
    "<h3>Sets</h3>\n"
   ]
  },
  {
   "cell_type": "markdown",
   "id": "480aa6d0",
   "metadata": {},
   "source": [
    "A set is an unordered collection of distinct elements\n",
    "* There is no duplicate elements;\n",
    "* Support mathematical operations like *union*, *intersection*, *difference* and *symmetric difference*\n",
    "* *set()* function (of {}) can be used to create sets. To create an empty set you have to use *set()*"
   ]
  },
  {
   "cell_type": "code",
   "execution_count": 27,
   "id": "4da5ddff",
   "metadata": {},
   "outputs": [
    {
     "name": "stdout",
     "output_type": "stream",
     "text": [
      "True\n",
      "False\n"
     ]
    }
   ],
   "source": [
    "animals = {'cat', 'dog'}\n",
    "print('cat' in animals)       # check if an element is in a set and prints 'True'\n",
    "print('fish' in animals)     # will print 'False', since element is not in the set"
   ]
  },
  {
   "cell_type": "code",
   "execution_count": 28,
   "id": "d5db2a43",
   "metadata": {},
   "outputs": [
    {
     "name": "stdout",
     "output_type": "stream",
     "text": [
      "True\n",
      "3\n"
     ]
    }
   ],
   "source": [
    "animals.add('fish')           # adds 'fish' to the set\n",
    "print('fish' in animals)\n",
    "print(len(animals))"
   ]
  },
  {
   "cell_type": "code",
   "execution_count": 29,
   "id": "c1988a2a",
   "metadata": {},
   "outputs": [
    {
     "name": "stdout",
     "output_type": "stream",
     "text": [
      "3\n",
      "2\n"
     ]
    }
   ],
   "source": [
    "animals.add('cat')             # adding an element that is already in the set does nothing\n",
    "print(len(animals))\n",
    "animals.remove('cat')          # removes an element from the set\n",
    "print(len(animals))"
   ]
  },
  {
   "cell_type": "markdown",
   "id": "fe8c8f9e",
   "metadata": {},
   "source": [
    "Loops: iterating over a set has the same syntax as iterating over a list; however since sets are unordered, you cannot make assumptions about the order in which you visit the elements of the set:"
   ]
  },
  {
   "cell_type": "code",
   "execution_count": 30,
   "id": "e50fdb4c",
   "metadata": {},
   "outputs": [
    {
     "name": "stdout",
     "output_type": "stream",
     "text": [
      "#1: cat\n",
      "#2: fish\n",
      "#3: dog\n"
     ]
    }
   ],
   "source": [
    "animals = {'cat', 'dog', 'fish'}\n",
    "for idx, animal in enumerate(animals):\n",
    "    print('#{}: {}'.format(idx + 1, animal))"
   ]
  },
  {
   "cell_type": "markdown",
   "id": "cb7d9d5d",
   "metadata": {},
   "source": [
    "<h3>Tuples</h3>"
   ]
  },
  {
   "cell_type": "markdown",
   "id": "b35fc22c",
   "metadata": {},
   "source": [
    "A Tuple is an (immutable) ordered list of values. A tuple is in many ways similar to a list; one of the most important differences is that tuples can be used as keys in dicitonaries and as elements of sets, while lists cannot. Here is a trivial example:"
   ]
  },
  {
   "cell_type": "code",
   "execution_count": 31,
   "id": "7f07a3af",
   "metadata": {},
   "outputs": [
    {
     "name": "stdout",
     "output_type": "stream",
     "text": [
      "32\n",
      "(32, 56, 'hello!')\n",
      "((32, 56, 'hello!'), (1, 2, 3, 4))\n"
     ]
    }
   ],
   "source": [
    "empty_tuple = ()          #empty pair of parentheses\n",
    "single_tuple = 'hello',    # note trailing comma\n",
    "\n",
    "t = 32, 56, 'hello!'\n",
    "print(t[0])\n",
    "print(t)\n",
    "\n",
    "u = t, (1, 2, 3, 4)     # Nested tuples\n",
    "print(u)"
   ]
  },
  {
   "cell_type": "code",
   "execution_count": 32,
   "id": "21f74d81",
   "metadata": {},
   "outputs": [
    {
     "ename": "TypeError",
     "evalue": "'tuple' object does not support item assignment",
     "output_type": "error",
     "traceback": [
      "\u001b[1;31m---------------------------------------------------------------------------\u001b[0m",
      "\u001b[1;31mTypeError\u001b[0m                                 Traceback (most recent call last)",
      "Cell \u001b[1;32mIn[32], line 2\u001b[0m\n\u001b[0;32m      1\u001b[0m \u001b[38;5;66;03m# tuples are immutable\u001b[39;00m\n\u001b[1;32m----> 2\u001b[0m t[\u001b[38;5;241m0\u001b[39m] \u001b[38;5;241m=\u001b[39m \u001b[38;5;241m1\u001b[39m\n",
      "\u001b[1;31mTypeError\u001b[0m: 'tuple' object does not support item assignment"
     ]
    }
   ],
   "source": [
    "# tuples are immutable\n",
    "t[0] = 1                # Traceback( most recent call last)"
   ]
  },
  {
   "cell_type": "code",
   "execution_count": 33,
   "id": "6990cc59",
   "metadata": {},
   "outputs": [
    {
     "name": "stdout",
     "output_type": "stream",
     "text": [
      "<class 'tuple'>\n",
      "5\n",
      "1\n"
     ]
    }
   ],
   "source": [
    "d = {(x, x + 1): x for x in range(10)}     # create a dictionary wirh tuple keys\n",
    "t = (5,6)\n",
    "print(type(t))\n",
    "print(d[t])\n",
    "print(d[(1, 2)])"
   ]
  },
  {
   "cell_type": "markdown",
   "id": "930da378",
   "metadata": {},
   "source": [
    "<h3>if statements</h3>"
   ]
  },
  {
   "cell_type": "code",
   "execution_count": 34,
   "id": "c5df5ab8",
   "metadata": {},
   "outputs": [
    {
     "name": "stdout",
     "output_type": "stream",
     "text": [
      "Please enter an integer: 10\n",
      "More\n"
     ]
    }
   ],
   "source": [
    "x = int(input(\"Please enter an integer: \"))\n",
    "\n",
    "if x < 0: \n",
    "    x = 0\n",
    "    print('Negative changed to zero')\n",
    "elif x == 0:\n",
    "    print('Zero inserted')\n",
    "elif x == 1:\n",
    "    print('One inserted')\n",
    "else:\n",
    "    print('More')"
   ]
  },
  {
   "cell_type": "code",
   "execution_count": 35,
   "id": "6f5c078f",
   "metadata": {},
   "outputs": [
    {
     "name": "stdout",
     "output_type": "stream",
     "text": [
      "if a:\n",
      "    do this\n",
      "elif b:\n",
      "    do that\n",
      "elif c:\n",
      "    do something else\n",
      "else:\n",
      "    print \"none of the above\"\n",
      "is equivalent to (exactly the same as) this:\n",
      "\n",
      "if a:\n",
      "    do this\n",
      "if (not a) and b:\n",
      "    do that\n",
      "if (not a) and (not b) and c:\n",
      "    do something else\n",
      "if (not a) and (not b) and (not c):\n",
      "    print \"none of the above\"\n",
      "    \n"
     ]
    }
   ],
   "source": [
    "Note = \"\"\"if a:\n",
    "    do this\n",
    "elif b:\n",
    "    do that\n",
    "elif c:\n",
    "    do something else\n",
    "else:\n",
    "    print \"none of the above\"\n",
    "is equivalent to (exactly the same as) this:\n",
    "\n",
    "if a:\n",
    "    do this\n",
    "if (not a) and b:\n",
    "    do that\n",
    "if (not a) and (not b) and c:\n",
    "    do something else\n",
    "if (not a) and (not b) and (not c):\n",
    "    print \"none of the above\"\n",
    "    \"\"\"\n",
    "print(Note)                           # if, elif,....else"
   ]
  },
  {
   "cell_type": "markdown",
   "id": "23b6d2a5",
   "metadata": {},
   "source": [
    "<h3>Loop statements</h3>"
   ]
  },
  {
   "cell_type": "markdown",
   "id": "c938ad66",
   "metadata": {},
   "source": [
    "Python for statement iterates over the items of any list or string in the order that they are appeaing in the sequence.\n",
    "You can loop over the elements of a list like this:"
   ]
  },
  {
   "cell_type": "code",
   "execution_count": 36,
   "id": "dc30e48e",
   "metadata": {},
   "outputs": [
    {
     "name": "stdout",
     "output_type": "stream",
     "text": [
      "cat 3\n",
      "dog 3\n",
      "monkey 3\n"
     ]
    }
   ],
   "source": [
    "# for\n",
    "\n",
    "animals = ['cat', 'dog', 'monkey']\n",
    "for animal in animals:\n",
    "    print(animal, len(animals))"
   ]
  },
  {
   "cell_type": "markdown",
   "id": "6d940fc4",
   "metadata": {},
   "source": [
    "If it s intended to access to the index of each element within the body of a loop, use the built-in *enumerate* function. This function returs a tuple containing a count (from start which defaults to 0) and the values."
   ]
  },
  {
   "cell_type": "code",
   "execution_count": 37,
   "id": "2a07ffb2",
   "metadata": {},
   "outputs": [
    {
     "name": "stdout",
     "output_type": "stream",
     "text": [
      "[(0, 'cat'), (1, 'dog'), (2, 'monkey')]\n",
      "[(10, 'cat'), (11, 'dog'), (12, 'monkey')]\n",
      "1: cat\n",
      "2: dog\n",
      "3: monkey\n"
     ]
    }
   ],
   "source": [
    "animals = ['cat', 'dog', 'monkey']\n",
    "\n",
    "animals_enum = list(enumerate(animals))\n",
    "print(animals_enum)                      # (idx_0, object_0), (idx_1, object_1), ...\n",
    "\n",
    "animals_enum = list(enumerate(animals, start = 10))\n",
    "print(animals_enum)                      # (idx_0 + Start, object_0), (idx_1 + Start, object_1), ...\n",
    "\n",
    "for idx, animal in enumerate(animals):\n",
    "    print('{}: {}'.format(idx + 1, animal))"
   ]
  },
  {
   "cell_type": "code",
   "execution_count": 38,
   "id": "9c1485d6",
   "metadata": {},
   "outputs": [
    {
     "name": "stdout",
     "output_type": "stream",
     "text": [
      "apple 0\n",
      "banana 1\n",
      "orange 2\n"
     ]
    }
   ],
   "source": [
    "fruit = [\"apple\", 'banana', 'orange']\n",
    "for i in range(len(fruit)):\n",
    "    print(fruit[i], i)"
   ]
  },
  {
   "cell_type": "markdown",
   "id": "7fb645bd",
   "metadata": {},
   "source": [
    "while statement repeats the execution oas long as an expression is true:"
   ]
  },
  {
   "cell_type": "code",
   "execution_count": 39,
   "id": "b14c6132",
   "metadata": {},
   "outputs": [
    {
     "name": "stdout",
     "output_type": "stream",
     "text": [
      "0\n",
      "1\n",
      "2\n",
      "3\n",
      "4\n"
     ]
    }
   ],
   "source": [
    "x = 0 \n",
    "while x < 5:\n",
    "    print(x)\n",
    "    x+=1"
   ]
  },
  {
   "cell_type": "markdown",
   "id": "33bd9d00",
   "metadata": {},
   "source": [
    "<h3>break and continue Statements, and else clause on Loops</h3>\n",
    "\n",
    "the 'break' statement breaks out of the innermost enclosing for or while lopp\n",
    "\n",
    "An 'else' on a loop statements is executed whrn the loop terminates through exhaustion of the iterable (with for) or when the condition becomes false (with while)\n",
    "\n",
    "it is not executed when the loop is terminated by a break statement"
   ]
  },
  {
   "cell_type": "code",
   "execution_count": 41,
   "id": "33a6fdf6",
   "metadata": {},
   "outputs": [
    {
     "name": "stdout",
     "output_type": "stream",
     "text": [
      "ending x =  1\n",
      "ending x =  2\n",
      "2 is bigger than x =  1\n",
      "3 is bigger than x =  1\n",
      "4 is bigger than x =  1\n"
     ]
    }
   ],
   "source": [
    "for n in range(1, 5):\n",
    "    for x in range(1, 3):\n",
    "        if n > x:\n",
    "            print(n, 'is bigger than x = ', x)\n",
    "            break\n",
    "        else:\n",
    "            print('ending x = ', x)"
   ]
  },
  {
   "cell_type": "markdown",
   "id": "8f65b89d",
   "metadata": {},
   "source": [
    "h3>List comprehensions:</h3>\n",
    "\n",
    "When programming, frequently we want to transform one type of data into another. As a simple example, consider the following code that computes square numbers:"
   ]
  },
  {
   "cell_type": "code",
   "execution_count": 43,
   "id": "4a1f0a5b",
   "metadata": {},
   "outputs": [
    {
     "name": "stdout",
     "output_type": "stream",
     "text": [
      "[0, 1, 4, 9, 16]\n"
     ]
    }
   ],
   "source": [
    "nums = [0, 1, 2, 3, 4]\n",
    "squares = []\n",
    "for x in nums:\n",
    "    squares.append(x**2)\n",
    "print(squares)\n",
    "\n",
    "# .append - adds an element to a list"
   ]
  },
  {
   "cell_type": "markdown",
   "id": "6af296a4",
   "metadata": {},
   "source": [
    "This can be written using list comprehensions:"
   ]
  },
  {
   "cell_type": "code",
   "execution_count": 44,
   "id": "b81ce83e",
   "metadata": {},
   "outputs": [
    {
     "name": "stdout",
     "output_type": "stream",
     "text": [
      "[0, 1, 4, 9, 16]\n"
     ]
    }
   ],
   "source": [
    "nums = [0, 1, 2, 3, 4]\n",
    "squares = [x**2 for x in nums]\n",
    "print(squares)"
   ]
  },
  {
   "cell_type": "markdown",
   "id": "63693571",
   "metadata": {},
   "source": [
    "List comprehensions can also contain conditions:"
   ]
  },
  {
   "cell_type": "code",
   "execution_count": 45,
   "id": "89f7d600",
   "metadata": {},
   "outputs": [
    {
     "name": "stdout",
     "output_type": "stream",
     "text": [
      "[0, 4, 16]\n"
     ]
    }
   ],
   "source": [
    "nums = [0, 1, 2, 3, 4]\n",
    "even_squares = [x ** 2 for x in nums if x % 2 == 0]     # iterates over x and check if x is even (par)  \n",
    "print(even_squares)"
   ]
  },
  {
   "cell_type": "markdown",
   "id": "77e8f09f",
   "metadata": {},
   "source": [
    "Dictionary comprehensions: These are similar to list comprehensions, but allow you to easily construct dictionaries. For example:"
   ]
  },
  {
   "cell_type": "code",
   "execution_count": 46,
   "id": "fa843afc",
   "metadata": {},
   "outputs": [
    {
     "name": "stdout",
     "output_type": "stream",
     "text": [
      "{0: 0, 2: 4, 4: 16}\n"
     ]
    }
   ],
   "source": [
    "nums = [0, 1, 2, 3, 4]\n",
    "even_num_to_square = {x: x ** 2 for x in nums if x % 2 == 0}\n",
    "print(even_num_to_square)"
   ]
  },
  {
   "cell_type": "markdown",
   "id": "d3bd88d2",
   "metadata": {},
   "source": [
    "Set comprehensions: like lists and dictionaries, we can easily construct sets using set comprehensions:"
   ]
  },
  {
   "cell_type": "code",
   "execution_count": 48,
   "id": "c59c29ae",
   "metadata": {},
   "outputs": [
    {
     "name": "stdout",
     "output_type": "stream",
     "text": [
      "{0, 1, 2, 3, 4, 5, 6, 7}\n"
     ]
    }
   ],
   "source": [
    "from math import sqrt\n",
    "print({int(sqrt(x)) for x in range(50)}) #49, 36, 25, 16, 9, 4, 1, 0"
   ]
  },
  {
   "cell_type": "markdown",
   "id": "0fea5de6",
   "metadata": {},
   "source": [
    "<h3>Functions</h3>\n",
    "\n",
    "Functions in Python are defined using 'def' keyword."
   ]
  },
  {
   "cell_type": "code",
   "execution_count": 50,
   "id": "0534b727",
   "metadata": {},
   "outputs": [
    {
     "name": "stdout",
     "output_type": "stream",
     "text": [
      "negative\n",
      "zero\n",
      "positive\n"
     ]
    }
   ],
   "source": [
    "def sign(x):\n",
    "    if x > 0:\n",
    "        return 'positive'\n",
    "    elif x < 0:\n",
    "        return 'negative'\n",
    "    else:\n",
    "        return 'zero'\n",
    "\n",
    "for x in [-1, 0, 1]:\n",
    "    print(sign(x))"
   ]
  },
  {
   "cell_type": "markdown",
   "id": "eaf3bd24",
   "metadata": {},
   "source": [
    "Functions will be often defined to take optional keyword arguments, like this:"
   ]
  },
  {
   "cell_type": "code",
   "execution_count": 51,
   "id": "931e02d1",
   "metadata": {},
   "outputs": [
    {
     "name": "stdout",
     "output_type": "stream",
     "text": [
      "Hello, Bob!\n",
      "HELLO, FRED\n"
     ]
    }
   ],
   "source": [
    "def hello(name, loud=False):        #Default Argument Values\n",
    "    if loud:\n",
    "        print('HELLO, {}'.format(name.upper()))\n",
    "    else:\n",
    "        print('Hello, {}!'.format(name))\n",
    "        \n",
    "hello('Bob')\n",
    "hello('Fred', loud=True)\n",
    "\n",
    "# if loud is 'True' message msg will be written in CAPITAL LETTERS"
   ]
  },
  {
   "cell_type": "markdown",
   "id": "74abbc54",
   "metadata": {},
   "source": [
    "The return statement returns with a value from a function.\n",
    "'return' without an expression argument returns None. Falling off the end of a function also returns None.\n",
    "the method result.append(a) calls a method of the list object result\n"
   ]
  },
  {
   "cell_type": "code",
   "execution_count": 53,
   "id": "4ab1e8e5",
   "metadata": {},
   "outputs": [
    {
     "name": "stdout",
     "output_type": "stream",
     "text": [
      "[0, 1, 1, 2, 3, 5, 8, 13, 21, 34, 55, 89]\n"
     ]
    }
   ],
   "source": [
    "def fib2(n):        #return Fibonacci series up to n\n",
    "    result = []\n",
    "    a, b = 0, 1\n",
    "    while a < n:\n",
    "        result.append(a)\n",
    "        a, b = b, a+b\n",
    "    return result\n",
    "\n",
    "f100 = fib2(100)\n",
    "print(f100)"
   ]
  },
  {
   "cell_type": "markdown",
   "id": "4e7a2002",
   "metadata": {},
   "source": [
    "<h3>Classes</h3>\n",
    "\n",
    "Definition of Classes in Python is straightforward:"
   ]
  },
  {
   "cell_type": "code",
   "execution_count": null,
   "id": "c7f51e08",
   "metadata": {},
   "outputs": [],
   "source": [
    "class Greeter:\n",
    "    \"\"\"A simple class example\"\"\"\n",
    "    i = 12345\n",
    "    \n",
    "    #constructor\n",
    "    def __init__(self, name):\n",
    "        self.name = name         # create an instance ariable\n",
    "        \n",
    "    #instance method\n",
    "    def greet(self, loud=False):\n",
    "        if loud:\n",
    "            print('HELLO, {}'.format(self.name.upper()))\n",
    "        else:\n",
    "            print('Hello, {}!'.format(self.name))\n",
    "            \n",
    "g = Greeter('Fred')                 # construct an instance of the Greeter class\n",
    "g.greet()                           # Call an instance method; prints \"Hello, fred\"\n",
    "g.greet(loud=True)                  # Call an instance method; prints \"HELLO, FRED!\""
   ]
  }
 ],
 "metadata": {
  "kernelspec": {
   "display_name": "Python 3 (ipykernel)",
   "language": "python",
   "name": "python3"
  },
  "language_info": {
   "codemirror_mode": {
    "name": "ipython",
    "version": 3
   },
   "file_extension": ".py",
   "mimetype": "text/x-python",
   "name": "python",
   "nbconvert_exporter": "python",
   "pygments_lexer": "ipython3",
   "version": "3.11.4"
  }
 },
 "nbformat": 4,
 "nbformat_minor": 5
}
