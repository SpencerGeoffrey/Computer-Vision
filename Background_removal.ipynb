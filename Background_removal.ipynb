{
 "cells": [
  {
   "cell_type": "code",
   "execution_count": null,
   "id": "a048cc0f-eb5f-447e-89e1-cb14baca9992",
   "metadata": {},
   "outputs": [],
   "source": [
    "from rembg import remove \n",
    "from PIL import Image "
   ]
  },
  {
   "cell_type": "code",
   "execution_count": null,
   "id": "c2cf88f1-b498-4608-907b-53c1b9c8152e",
   "metadata": {},
   "outputs": [],
   "source": [
    "input_path =  'C:/PATH/IMAGE_NAME.png' #image directory and its defined name dot format"
   ]
  },
  {
   "cell_type": "code",
   "execution_count": null,
   "id": "869a4715-f399-4e6d-af5a-228c088c9af2",
   "metadata": {},
   "outputs": [],
   "source": [
    "output_path = 'C:/PATH/IMAGE_NAME.jpg' #directory, output image name and format"
   ]
  },
  {
   "cell_type": "code",
   "execution_count": 7,
   "id": "a8aacf67-457c-4ac3-80b3-15c273610d98",
   "metadata": {},
   "outputs": [],
   "source": [
    "with open(input_path, 'rb') as i:\n",
    "    with open(output_path, 'wb') as o:\n",
    "        input = i.read()\n",
    "        output = remove(input)\n",
    "        o.write(output)"
   ]
  }
 ],
 "metadata": {
  "kernelspec": {
   "display_name": "Python 3 (ipykernel)",
   "language": "python",
   "name": "python3"
  },
  "language_info": {
   "codemirror_mode": {
    "name": "ipython",
    "version": 3
   },
   "file_extension": ".py",
   "mimetype": "text/x-python",
   "name": "python",
   "nbconvert_exporter": "python",
   "pygments_lexer": "ipython3",
   "version": "3.11.9"
  }
 },
 "nbformat": 4,
 "nbformat_minor": 5
}
