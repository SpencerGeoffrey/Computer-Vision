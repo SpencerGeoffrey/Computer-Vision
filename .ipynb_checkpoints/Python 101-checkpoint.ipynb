{
 "cells": [
  {
   "cell_type": "markdown",
   "id": "51cc6b92",
   "metadata": {},
   "source": [
    "# Hands on Python"
   ]
  },
  {
   "cell_type": "markdown",
   "id": "ab010182",
   "metadata": {},
   "source": [
    "Python - object-oriented language. therefore it uses classes to define data types.\n",
    "\n",
    "Python Data Types:\n",
    "<ol>\n",
    "  <li>Numeric types: int, float, complex;.</li>\n",
    "  <li>Sequence type: lis, tuple, range;</li>\n",
    "  <li>Mapping type: dict;</li>\n",
    "  <li>Boolean type: bool;</li>\n",
    "  <li>Binary types: bytes, bytearray, memoryview.</li>\n",
    "</ol>"
   ]
  },
  {
   "cell_type": "markdown",
   "id": "b625968f",
   "metadata": {},
   "source": [
    "<h1>Basic Data Types</h1>"
   ]
  },
  {
   "cell_type": "markdown",
   "id": "3ef99e7f",
   "metadata": {},
   "source": [
    "<h2>Basic Data Types</h2>"
   ]
  },
  {
   "cell_type": "markdown",
   "id": "e33407d0",
   "metadata": {},
   "source": [
    "Whenever is required to specify the type on to a variable, this can be executed with casting.\n",
    "\n",
    "Casting in python is therefore done using constructor functions:\n",
    "\n",
    "* int() - constructs an integer number from an integer literal, a float literal (by removing all decimals), or a string literal (providing the string represents a whole number);\n",
    "\n",
    "* float() - constructs a float number from an integer literal, a float literal or a string literal (providing the string represents a float or an integer);\n",
    "\n",
    "* str() - constructs a string from a wide variety of data types, including strings, integer literals and float literals"
   ]
  },
  {
   "cell_type": "markdown",
   "id": "ed7cf331",
   "metadata": {},
   "source": [
    "<h3>Numbers</h3>"
   ]
  },
  {
   "cell_type": "code",
   "execution_count": 109,
   "id": "34044dcc",
   "metadata": {},
   "outputs": [
    {
     "data": {
      "text/plain": [
       "(1, 2, 3)"
      ]
     },
     "execution_count": 109,
     "metadata": {},
     "output_type": "execute_result"
    }
   ],
   "source": [
    "\n",
    "x = int(1)     # X = 1   \n",
    "y = int(2.9)   #Y = 2\n",
    "z = int(\"3\")   #Z = 3\n",
    "x,y,z"
   ]
  },
  {
   "cell_type": "code",
   "execution_count": 110,
   "id": "58d96c04",
   "metadata": {},
   "outputs": [
    {
     "data": {
      "text/plain": [
       "(1.0, 2.8, 3.0, 4.2)"
      ]
     },
     "execution_count": 110,
     "metadata": {},
     "output_type": "execute_result"
    }
   ],
   "source": [
    "#floats\n",
    "x = float(1)     # x will be 1.0\n",
    "y = float(2.8)   # y will be 2.8\n",
    "z = float(\"3\")   # z will be 3.0\n",
    "w = float(\"4.2\") # w will be 4.2\n",
    "x,y,z,w"
   ]
  },
  {
   "cell_type": "code",
   "execution_count": 111,
   "id": "85e2afc3",
   "metadata": {},
   "outputs": [
    {
     "data": {
      "text/plain": [
       "1j"
      ]
     },
     "execution_count": 111,
     "metadata": {},
     "output_type": "execute_result"
    }
   ],
   "source": [
    "#complex\n",
    "\n",
    "x = 1j\n",
    "x"
   ]
  },
  {
   "cell_type": "code",
   "execution_count": 112,
   "id": "b70d121e",
   "metadata": {},
   "outputs": [
    {
     "name": "stdout",
     "output_type": "stream",
     "text": [
      "3 <class 'int'>\n"
     ]
    }
   ],
   "source": [
    "#Numbers\n",
    "x = 3\n",
    "print(x, type(x))"
   ]
  },
  {
   "cell_type": "markdown",
   "id": "9f0877ff",
   "metadata": {},
   "source": [
    "Python Operators:\n",
    "* Arithmetic operator\n",
    "* Assignement operators\n",
    "* Comparison operators;\n",
    "* Logical operators;\n",
    "* Bitwise operators;\n",
    "* Membership operators."
   ]
  },
  {
   "cell_type": "code",
   "execution_count": 113,
   "id": "d019a946",
   "metadata": {},
   "outputs": [
    {
     "name": "stdout",
     "output_type": "stream",
     "text": [
      "4\n",
      "2\n",
      "6\n",
      "9\n"
     ]
    }
   ],
   "source": [
    "print(x + 1)     # addition\n",
    "print(x - 1)     # subtraction\n",
    "print(x * 2)     # multiplication\n",
    "print(x ** 2)    # exponentiation"
   ]
  },
  {
   "cell_type": "code",
   "execution_count": 114,
   "id": "65ad4076",
   "metadata": {},
   "outputs": [
    {
     "name": "stdout",
     "output_type": "stream",
     "text": [
      "4\n",
      "8\n"
     ]
    }
   ],
   "source": [
    "x += 1          # performs x = x + 1\n",
    "print(x)\n",
    "x *= 2          # performs x = x * 2, as x is now equal to 4, x = 4 * 2\n",
    "print(x)"
   ]
  },
  {
   "cell_type": "code",
   "execution_count": 115,
   "id": "f3f54435",
   "metadata": {},
   "outputs": [
    {
     "name": "stdout",
     "output_type": "stream",
     "text": [
      "2.5 <class 'float'>\n",
      "2.5 3.5 5.0 6.25\n"
     ]
    }
   ],
   "source": [
    "y = 2.5\n",
    "print(y, type(y))\n",
    "print(y, y + 1, y * 2, y ** 2)"
   ]
  },
  {
   "cell_type": "markdown",
   "id": "f42975a5",
   "metadata": {},
   "source": [
    "Unlike many languages, Python does not have unary increment (x++) or decrement (x--) operators.\n",
    "\n",
    "Python also has built-in types for long integers and complex numbers; you can find all of the details in the [documentation](https://docs.python.org/3.7/library/stdtypes.html#numeric-types-int-float-long-complex)."
   ]
  },
  {
   "cell_type": "markdown",
   "id": "06e9b358",
   "metadata": {},
   "source": [
    "<h3>Booleans</h3>\n",
    "Python implements all of the usual operators for Boolean logic, but uses English words rather than symbols (&&, ||, etc.):"
   ]
  },
  {
   "cell_type": "code",
   "execution_count": 116,
   "id": "260564ec",
   "metadata": {},
   "outputs": [
    {
     "name": "stdout",
     "output_type": "stream",
     "text": [
      "True False <class 'bool'> <class 'bool'>\n"
     ]
    }
   ],
   "source": [
    "t, f = True, False\n",
    "print(t, f, type(t), type(f))"
   ]
  },
  {
   "cell_type": "markdown",
   "id": "bbf8745e",
   "metadata": {},
   "source": [
    "Now we let's look at the operations:"
   ]
  },
  {
   "cell_type": "code",
   "execution_count": 117,
   "id": "f22dea59",
   "metadata": {},
   "outputs": [
    {
     "name": "stdout",
     "output_type": "stream",
     "text": [
      "False\n",
      "True\n",
      "False\n",
      "True\n"
     ]
    }
   ],
   "source": [
    "print(t and f)  # Logical AND\n",
    "print(t or f)   # Logical OR\n",
    "print(not t)    # Logical NOT\n",
    "print(t != f)   #Logical XOR"
   ]
  },
  {
   "cell_type": "markdown",
   "id": "cdf43442",
   "metadata": {},
   "source": [
    "<h3>Strings</h3>"
   ]
  },
  {
   "cell_type": "code",
   "execution_count": 118,
   "id": "cf373737",
   "metadata": {},
   "outputs": [
    {
     "name": "stdout",
     "output_type": "stream",
     "text": [
      "Hello 5\n"
     ]
    }
   ],
   "source": [
    "hello = \"Hello\"   # string literals can use single quotes\n",
    "world = \"World!\"  # or double quotes; it doesn't matter\n",
    "print(hello, len(hello))"
   ]
  },
  {
   "cell_type": "code",
   "execution_count": 119,
   "id": "4ef8902d",
   "metadata": {},
   "outputs": [
    {
     "name": "stdout",
     "output_type": "stream",
     "text": [
      "Hello World!\n"
     ]
    }
   ],
   "source": [
    "hw = hello + ' ' + world  # string concatenation.... space between: + ' [space]' + \n",
    "print(hw)"
   ]
  },
  {
   "cell_type": "code",
   "execution_count": 120,
   "id": "d484df85",
   "metadata": {},
   "outputs": [
    {
     "name": "stdout",
     "output_type": "stream",
     "text": [
      "Hello World! 12\n"
     ]
    }
   ],
   "source": [
    "hw12 = '{} {} {}'.format(hello, world, 12)  #string formatting\n",
    "print(hw12)"
   ]
  },
  {
   "cell_type": "markdown",
   "id": "3d4ccf1e",
   "metadata": {},
   "source": [
    "It's possible to assign a multiline string to a variable by using three quotes \"\"\" \"\"\""
   ]
  },
  {
   "cell_type": "code",
   "execution_count": 121,
   "id": "26122cea",
   "metadata": {},
   "outputs": [
    {
     "name": "stdout",
     "output_type": "stream",
     "text": [
      "Hoje vamos aprender Python mas,\n",
      "alguns alunos podem já terem tido contato anteriormente.\n",
      "Convém relembrar! \n"
     ]
    }
   ],
   "source": [
    "str_multi = \"\"\"Hoje vamos aprender Python mas,\n",
    "alguns alunos podem já terem tido contato anteriormente.\n",
    "Convém relembrar! \"\"\"\n",
    "print(str_multi)"
   ]
  },
  {
   "cell_type": "markdown",
   "id": "e1241314",
   "metadata": {},
   "source": [
    "String objects have a bunch of useful methods, for example: "
   ]
  },
  {
   "cell_type": "code",
   "execution_count": 173,
   "id": "10b3ab84",
   "metadata": {},
   "outputs": [
    {
     "name": "stdout",
     "output_type": "stream",
     "text": [
      "Geoffrey\n",
      "GEOFFREY\n",
      "                                                                                           geoffrey\n",
      "                     geoffrey                     \n",
      "Spencer\n"
     ]
    }
   ],
   "source": [
    "s = \"geoffrey\"\n",
    "print(s.capitalize())             # Capitalize a string\n",
    "print(s.upper())                  # convert a string to uppercase; will print 'GEOFFREY'\n",
    "print(s.rjust(99))                # Right-justify a string, padding with spaces\n",
    "print(s.center(50))               # Center a string, padding with spaces \n",
    "#print(s.replace('1', '(ell)'))    # Replace all instance of one substring with another\n",
    "print('  Spencer'.strip())        # Strip leading and trailing whitespace"
   ]
  },
  {
   "cell_type": "markdown",
   "id": "587b974a",
   "metadata": {},
   "source": [
    "<h3>Containers</h3>"
   ]
  },
  {
   "cell_type": "markdown",
   "id": "43ab6f5f",
   "metadata": {},
   "source": [
    "Python does not present a built-in support for arrays. A list can be a resizeable and contain elements of different types. \n",
    "It can be written as a list of comma-separated values (items) between square backets."
   ]
  },
  {
   "cell_type": "code",
   "execution_count": 123,
   "id": "aa3112dd",
   "metadata": {},
   "outputs": [
    {
     "name": "stdout",
     "output_type": "stream",
     "text": [
      "[3, 1, 2] 2\n",
      "2\n"
     ]
    }
   ],
   "source": [
    "xs = [3, 1, 2]      # create a list\n",
    "print(xs, xs[2])    # prints out the list xs, and the value at position 2\n",
    "print(xs[-1])       # negative indices count from end of the list; will print '2'"
   ]
  },
  {
   "cell_type": "code",
   "execution_count": 124,
   "id": "0e531c2f",
   "metadata": {},
   "outputs": [
    {
     "name": "stdout",
     "output_type": "stream",
     "text": [
      "[3, 1, 'foo']\n"
     ]
    }
   ],
   "source": [
    "xs[2] = 'foo'       #lists can contain elements of different types\n",
    "print(xs)"
   ]
  },
  {
   "cell_type": "code",
   "execution_count": 125,
   "id": "b5b23420",
   "metadata": {},
   "outputs": [
    {
     "name": "stdout",
     "output_type": "stream",
     "text": [
      "[3, 1, 'foo', 'bar']\n"
     ]
    }
   ],
   "source": [
    "xs.append('bar')   # adds a new element to the end of the list\n",
    "print(xs)"
   ]
  },
  {
   "cell_type": "code",
   "execution_count": 126,
   "id": "2f5c5b66",
   "metadata": {},
   "outputs": [
    {
     "name": "stdout",
     "output_type": "stream",
     "text": [
      "bar [3, 1, 'foo']\n"
     ]
    }
   ],
   "source": [
    "x = xs.pop()       # remove and return the last element of the list\n",
    "print(x, xs)"
   ]
  },
  {
   "cell_type": "markdown",
   "id": "db53b054",
   "metadata": {},
   "source": [
    "<h3>Slicing</h3>"
   ]
  },
  {
   "cell_type": "markdown",
   "id": "a3265ebf",
   "metadata": {},
   "source": [
    "Furthermore, to accessing list elements one at a time, Python provides concies syntax to access sublists; which is known as slicing"
   ]
  },
  {
   "cell_type": "code",
   "execution_count": 132,
   "id": "d653d3e1",
   "metadata": {},
   "outputs": [
    {
     "name": "stdout",
     "output_type": "stream",
     "text": [
      "Co\n",
      "Visio\n",
      "Vision\n",
      "[0, 1, 2, 3, 4]\n",
      "[2, 3]\n",
      "[2, 3, 4]\n",
      "[0, 1]\n",
      "[0, 1, 2, 3, 4]\n",
      "[0, 1, 2, 3]\n",
      "[0, 1, 8, 9, 4]\n"
     ]
    }
   ],
   "source": [
    "name = \"Computer Vision\"\n",
    "\n",
    "print(name[0:2])           # prints from position 0 (included) to 2 (excluded) ---- position 0 & 1\n",
    "print(name[9:14])          # prints from position 9 (included) to position 14 (excluded) ------ position 9 & 13\n",
    "print(name[9:])            # prints from position 9 and the remaining positions\n",
    "\n",
    "nums = list(range(5))      # range is a built-in function that creates a list of integers\n",
    "print(nums)                   # Prints \"[0, 1, 2, 3, 4]\"\n",
    "\n",
    "print(nums[2:4])           # gets a slice from index 2 to 4 ----- position 2 & 3\n",
    "print(nums[2:])            # gest slice from position 2 to the end; prints out [2, 3, 4]\n",
    "print(nums[:2])            # gets slice from previous positions to position 2 --- gets slice from the begining to index 2 --- position 0 & 1 excluding position 2 and the rest\n",
    "print(nums[:])             # gets slice for the whole list\n",
    "print(nums[:-1])           # slice indices can be negative, prints [0, 1, 2, 3]\n",
    "\n",
    "nums[2:4] = [8,9]          # assign new sublist to a slice ----- assignement executed to position/index 2 & 3 excluding index 4\n",
    "print(nums)"
   ]
  },
  {
   "cell_type": "markdown",
   "id": "17951c84",
   "metadata": {},
   "source": [
    "The built-in function *range()* generates arithmetic progressions. It is possible to specify the start and the end value (this last one is out of the generated sequence). It is also possible to specify a ‘step’ increment (which can be negative)."
   ]
  },
  {
   "cell_type": "code",
   "execution_count": 134,
   "id": "dd8c7881",
   "metadata": {},
   "outputs": [
    {
     "name": "stdout",
     "output_type": "stream",
     "text": [
      "[0, 3, 6, 9]\n",
      "[-10, -40, -70]\n"
     ]
    }
   ],
   "source": [
    "print( list(range(0, 10, 3)) )            # from 0 to 10, from 3 to 3\n",
    "\n",
    "print( list(range(-10, -100, -30)) )      # from -10 to -100, from -30 to -30"
   ]
  },
  {
   "cell_type": "markdown",
   "id": "46a2ee1f",
   "metadata": {},
   "source": [
    "<h3>Dictionaires</h3>"
   ]
  },
  {
   "cell_type": "markdown",
   "id": "0e1af493",
   "metadata": {},
   "source": [
    "Dictionaires are indexed by keys, which can be an immutable type; strings and numbers can always be keys (uniques).\n",
    "* A pair of braces creates an empty dictionary: {} ;\n",
    "* It is also possible to *delete* a key: value pair with *del* ;\n",
    "* To check whether a single key is in the dictionary, use the *in* keyword ;\n",
    "* the *dict()* constructor builds dictionaries directly from sequences of key-value pairs."
   ]
  },
  {
   "cell_type": "markdown",
   "id": "91359748",
   "metadata": {},
   "source": [
    "A dictionary stores (key:value) pairs:"
   ]
  },
  {
   "cell_type": "code",
   "execution_count": 138,
   "id": "8340a8cc",
   "metadata": {},
   "outputs": [
    {
     "name": "stdout",
     "output_type": "stream",
     "text": [
      "cute\n",
      "True\n"
     ]
    }
   ],
   "source": [
    "d = {'cat': 'cute', 'dog': 'furry'}     # creates a new dictionary with some data \n",
    "print(d['cat'])                         # get an entry from a dictionary; prints 'cute'\n",
    "print('cat' in d)                       # checks if a dictionary has a given key; prints \"True\""
   ]
  },
  {
   "cell_type": "code",
   "execution_count": 139,
   "id": "001a245e",
   "metadata": {},
   "outputs": [
    {
     "name": "stdout",
     "output_type": "stream",
     "text": [
      "wet\n"
     ]
    }
   ],
   "source": [
    "d['fish'] = 'wet'                       # set an entry in a dictionary\n",
    "print(d['fish'])                        # prints 'wet'"
   ]
  },
  {
   "cell_type": "code",
   "execution_count": 140,
   "id": "a261f920",
   "metadata": {},
   "outputs": [
    {
     "ename": "KeyError",
     "evalue": "'monkey'",
     "output_type": "error",
     "traceback": [
      "\u001b[1;31m---------------------------------------------------------------------------\u001b[0m",
      "\u001b[1;31mKeyError\u001b[0m                                  Traceback (most recent call last)",
      "Cell \u001b[1;32mIn[140], line 1\u001b[0m\n\u001b[1;32m----> 1\u001b[0m \u001b[38;5;28mprint\u001b[39m(d[\u001b[38;5;124m'\u001b[39m\u001b[38;5;124mmonkey\u001b[39m\u001b[38;5;124m'\u001b[39m])\n",
      "\u001b[1;31mKeyError\u001b[0m: 'monkey'"
     ]
    }
   ],
   "source": [
    "print(d['monkey'])                      # KeyError: 'monkey' not a key of d (dictionary)"
   ]
  },
  {
   "cell_type": "code",
   "execution_count": 141,
   "id": "a2c073a9",
   "metadata": {},
   "outputs": [
    {
     "name": "stdout",
     "output_type": "stream",
     "text": [
      "N/A\n",
      "wet\n"
     ]
    }
   ],
   "source": [
    "print(d.get('monkey', 'N/A'))           # gets an element with a default: prints 'N/A'\n",
    "print(d.get('fish', 'N/A'))"
   ]
  },
  {
   "cell_type": "code",
   "execution_count": 142,
   "id": "a426d307",
   "metadata": {},
   "outputs": [
    {
     "name": "stdout",
     "output_type": "stream",
     "text": [
      "N/A\n"
     ]
    }
   ],
   "source": [
    "del d['fish']                           # remove fish from the dictionary\n",
    "print(d.get('fish', 'N/A'))"
   ]
  },
  {
   "cell_type": "markdown",
   "id": "aa6e9920",
   "metadata": {},
   "source": [
    "It is easy to iterate over the keys in a dictionary:\n"
   ]
  },
  {
   "cell_type": "code",
   "execution_count": 144,
   "id": "4c93b85d",
   "metadata": {},
   "outputs": [
    {
     "name": "stdout",
     "output_type": "stream",
     "text": [
      "A person has 2 legs\n",
      "A cat has 4 legs\n",
      "A spider has 8 legs\n"
     ]
    }
   ],
   "source": [
    "d = {'person': 2, 'cat': 4, 'spider': 8}\n",
    "\n",
    "for animal, legs in d.items():                        # animal holds the [keys] and legs hold the [value]\n",
    "    print('A {} has {} legs'.format(animal, legs))"
   ]
  },
  {
   "cell_type": "markdown",
   "id": "5b8f77c9",
   "metadata": {},
   "source": [
    "<h3>Sets</h3>\n"
   ]
  },
  {
   "cell_type": "markdown",
   "id": "5956c144",
   "metadata": {},
   "source": [
    "A set is an unordered collection of distinct elements\n",
    "* There is no duplicate elements;\n",
    "* Support mathematical operations like *union*, *intersection*, *difference* and *symmetric difference*\n",
    "* *set()* function (of {}) can be used to create sets. To create an empty set you have to use *set()*"
   ]
  },
  {
   "cell_type": "code",
   "execution_count": 146,
   "id": "b21bbc89",
   "metadata": {},
   "outputs": [
    {
     "name": "stdout",
     "output_type": "stream",
     "text": [
      "True\n",
      "False\n"
     ]
    }
   ],
   "source": [
    "animals = {'cat', 'dog'}\n",
    "print('cat' in animals)       # check if an element is in a set and prints 'True'\n",
    "print('fish' in animals)     # will print 'False', since element is not in the set"
   ]
  },
  {
   "cell_type": "code",
   "execution_count": 148,
   "id": "5db718ca",
   "metadata": {},
   "outputs": [
    {
     "name": "stdout",
     "output_type": "stream",
     "text": [
      "True\n",
      "3\n"
     ]
    }
   ],
   "source": [
    "animals.add('fish')           # adds 'fish' to the set\n",
    "print('fish' in animals)\n",
    "print(len(animals))"
   ]
  },
  {
   "cell_type": "code",
   "execution_count": 150,
   "id": "8062f437",
   "metadata": {},
   "outputs": [
    {
     "name": "stdout",
     "output_type": "stream",
     "text": [
      "3\n",
      "2\n"
     ]
    }
   ],
   "source": [
    "animals.add('cat')             # adding an element that is already in the set does nothing\n",
    "print(len(animals))\n",
    "animals.remove('cat')          # removes an element from the set\n",
    "print(len(animals))"
   ]
  },
  {
   "cell_type": "markdown",
   "id": "da4056f6",
   "metadata": {},
   "source": [
    "Loops: iterating over a set has the same syntax as iterating over a list; however since sets are unordered, you cannot make assumptions about the order in which you visit the elements of the set:"
   ]
  },
  {
   "cell_type": "code",
   "execution_count": 151,
   "id": "237458ba",
   "metadata": {},
   "outputs": [
    {
     "name": "stdout",
     "output_type": "stream",
     "text": [
      "#1: fish\n",
      "#2: cat\n",
      "#3: dog\n"
     ]
    }
   ],
   "source": [
    "animals = {'cat', 'dog', 'fish'}\n",
    "for idx, animal in enumerate(animals):\n",
    "    print('#{}: {}'.format(idx + 1, animal))"
   ]
  },
  {
   "cell_type": "markdown",
   "id": "95697725",
   "metadata": {},
   "source": [
    "<h3>Tuples</h3>"
   ]
  },
  {
   "cell_type": "markdown",
   "id": "bb812a38",
   "metadata": {},
   "source": [
    "A Tuple is an (immutable) ordered list of values. A tuple is in many ways similar to a list; one of the most important differences is that tuples can be used as keys in dicitonaries and as elements of sets, while lists cannot. Here is a trivial example:"
   ]
  },
  {
   "cell_type": "code",
   "execution_count": 154,
   "id": "72380c5d",
   "metadata": {},
   "outputs": [
    {
     "name": "stdout",
     "output_type": "stream",
     "text": [
      "32\n",
      "(32, 56, 'hello!')\n",
      "((32, 56, 'hello!'), (1, 2, 3, 4))\n"
     ]
    }
   ],
   "source": [
    "empty_tuple = ()          #empty pair of parentheses\n",
    "single_tuple = 'hello',    # note trailing comma\n",
    "\n",
    "t = 32, 56, 'hello!'\n",
    "print(t[0])\n",
    "print(t)\n",
    "\n",
    "u = t, (1, 2, 3, 4)     # Nested tuples\n",
    "print(u)"
   ]
  },
  {
   "cell_type": "code",
   "execution_count": 155,
   "id": "327900ee",
   "metadata": {},
   "outputs": [
    {
     "ename": "TypeError",
     "evalue": "'tuple' object does not support item assignment",
     "output_type": "error",
     "traceback": [
      "\u001b[1;31m---------------------------------------------------------------------------\u001b[0m",
      "\u001b[1;31mTypeError\u001b[0m                                 Traceback (most recent call last)",
      "Cell \u001b[1;32mIn[155], line 2\u001b[0m\n\u001b[0;32m      1\u001b[0m \u001b[38;5;66;03m# tuples are immutable\u001b[39;00m\n\u001b[1;32m----> 2\u001b[0m t[\u001b[38;5;241m0\u001b[39m] \u001b[38;5;241m=\u001b[39m \u001b[38;5;241m1\u001b[39m\n",
      "\u001b[1;31mTypeError\u001b[0m: 'tuple' object does not support item assignment"
     ]
    }
   ],
   "source": [
    "# tuples are immutable\n",
    "t[0] = 1                # Traceback( most recent call last)"
   ]
  },
  {
   "cell_type": "code",
   "execution_count": 159,
   "id": "bac64ff7",
   "metadata": {},
   "outputs": [
    {
     "name": "stdout",
     "output_type": "stream",
     "text": [
      "<class 'tuple'>\n",
      "5\n",
      "1\n"
     ]
    }
   ],
   "source": [
    "d = {(x, x + 1): x for x in range(10)}     # create a dictionary wirh tuple keys\n",
    "t = (5,6)\n",
    "print(type(t))\n",
    "print(d[t])\n",
    "print(d[(1, 2)])"
   ]
  },
  {
   "cell_type": "markdown",
   "id": "77c20e26",
   "metadata": {},
   "source": [
    "<h3>if statements</h3>"
   ]
  },
  {
   "cell_type": "code",
   "execution_count": 163,
   "id": "f54e609b",
   "metadata": {},
   "outputs": [
    {
     "name": "stdout",
     "output_type": "stream",
     "text": [
      "Please enter an integer: 50\n",
      "More\n"
     ]
    }
   ],
   "source": [
    "x = int(input(\"Please enter an integer: \"))\n",
    "\n",
    "if x < 0: \n",
    "    x = 0\n",
    "    print('Negative changed to zero')\n",
    "elif x == 0:\n",
    "    print('Zero inserted')\n",
    "elif x == 1:\n",
    "    print('One inserted')\n",
    "else:\n",
    "    print('More')"
   ]
  },
  {
   "cell_type": "code",
   "execution_count": 166,
   "id": "6aa47d92",
   "metadata": {},
   "outputs": [
    {
     "name": "stdout",
     "output_type": "stream",
     "text": [
      "if a:\n",
      "    do this\n",
      "elif b:\n",
      "    do that\n",
      "elif c:\n",
      "    do something else\n",
      "else:\n",
      "    print \"none of the above\"\n",
      "is equivalent to (exactly the same as) this:\n",
      "\n",
      "if a:\n",
      "    do this\n",
      "if (not a) and b:\n",
      "    do that\n",
      "if (not a) and (not b) and c:\n",
      "    do something else\n",
      "if (not a) and (not b) and (not c):\n",
      "    print \"none of the above\"\n",
      "    \n"
     ]
    }
   ],
   "source": [
    "Note = \"\"\"if a:\n",
    "    do this\n",
    "elif b:\n",
    "    do that\n",
    "elif c:\n",
    "    do something else\n",
    "else:\n",
    "    print \"none of the above\"\n",
    "is equivalent to (exactly the same as) this:\n",
    "\n",
    "if a:\n",
    "    do this\n",
    "if (not a) and b:\n",
    "    do that\n",
    "if (not a) and (not b) and c:\n",
    "    do something else\n",
    "if (not a) and (not b) and (not c):\n",
    "    print \"none of the above\"\n",
    "    \"\"\"\n",
    "print(Note)                           # if, elif,....else"
   ]
  },
  {
   "cell_type": "markdown",
   "id": "c5475450",
   "metadata": {},
   "source": [
    "<h3>Loop statements</h3>"
   ]
  },
  {
   "cell_type": "markdown",
   "id": "a0bd05f4",
   "metadata": {},
   "source": [
    "Python for statement iterates over the items of any list or string in the order that they are appeaing in the sequence.\n",
    "You can loop over the elements of a list like this:"
   ]
  },
  {
   "cell_type": "code",
   "execution_count": 168,
   "id": "8db0eab9",
   "metadata": {},
   "outputs": [
    {
     "name": "stdout",
     "output_type": "stream",
     "text": [
      "cat 3\n",
      "dog 3\n",
      "monkey 3\n"
     ]
    }
   ],
   "source": [
    "# for\n",
    "\n",
    "animals = ['cat', 'dog', 'monkey']\n",
    "for animal in animals:\n",
    "    print(animal, len(animals))"
   ]
  },
  {
   "cell_type": "markdown",
   "id": "d6fd0ada",
   "metadata": {},
   "source": [
    "If it s intended to access to the index of each element within the body of a loop, use the built-in *enumerate* function. This function returs a tuple containing a count (from start which defaults to 0) and the values."
   ]
  },
  {
   "cell_type": "code",
   "execution_count": 171,
   "id": "abba30fc",
   "metadata": {},
   "outputs": [
    {
     "name": "stdout",
     "output_type": "stream",
     "text": [
      "[(0, 'cat'), (1, 'dog'), (2, 'monkey')]\n",
      "[(10, 'cat'), (11, 'dog'), (12, 'monkey')]\n",
      "1: cat\n",
      "2: dog\n",
      "3: monkey\n"
     ]
    }
   ],
   "source": [
    "animals = ['cat', 'dog', 'monkey']\n",
    "\n",
    "animals_enum = list(enumerate(animals))\n",
    "print(animals_enum)                      # (idx_0, object_0), (idx_1, object_1), ...\n",
    "\n",
    "animals_enum = list(enumerate(animals, start = 10))\n",
    "print(animals_enum)                      # (idx_0 + Start, object_0), (idx_1 + Start, object_1), ...\n",
    "\n",
    "for idx, animal in enumerate(animals):\n",
    "    print('{}: {}'.format(idx + 1, animal))"
   ]
  },
  {
   "cell_type": "code",
   "execution_count": 172,
   "id": "a088a346",
   "metadata": {},
   "outputs": [
    {
     "name": "stdout",
     "output_type": "stream",
     "text": [
      "apple 0\n",
      "banana 1\n",
      "orange 2\n"
     ]
    }
   ],
   "source": [
    "fruit = [\"apple\", 'banana', 'orange']\n",
    "for i in range(len(fruit)):\n",
    "    print(fruit[i], i)"
   ]
  },
  {
   "cell_type": "code",
   "execution_count": null,
   "id": "786c3584",
   "metadata": {},
   "outputs": [],
   "source": []
  }
 ],
 "metadata": {
  "kernelspec": {
   "display_name": "Python 3 (ipykernel)",
   "language": "python",
   "name": "python3"
  },
  "language_info": {
   "codemirror_mode": {
    "name": "ipython",
    "version": 3
   },
   "file_extension": ".py",
   "mimetype": "text/x-python",
   "name": "python",
   "nbconvert_exporter": "python",
   "pygments_lexer": "ipython3",
   "version": "3.11.4"
  }
 },
 "nbformat": 4,
 "nbformat_minor": 5
}
